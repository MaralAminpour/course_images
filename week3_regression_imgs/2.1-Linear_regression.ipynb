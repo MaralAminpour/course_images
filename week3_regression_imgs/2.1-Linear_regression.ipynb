{
  "cells": [
    {
      "cell_type": "markdown",
      "id": "0a578206-d553-4a02-984c-bd7c99baa371",
      "metadata": {
        "id": "0a578206-d553-4a02-984c-bd7c99baa371"
      },
      "source": [
        "# Regression 1 - Multivariate Linear Regression"
      ]
    },
    {
      "cell_type": "markdown",
      "id": "b38c7279-b524-4a0a-99dd-31578cf91098",
      "metadata": {
        "id": "b38c7279-b524-4a0a-99dd-31578cf91098"
      },
      "source": [
        "In this notebook we will look at **Multivariate Linear Regression** which seeks to fit the model\n",
        "\n",
        "$$y=w_0+w_1x_1+...+w_Dx_D$$\n",
        "\n",
        "where $(x_1,...,x_D)^T$ is the *feature vector*, $\\hat{y}$ is the *target value* and $(w_0,...,w_D)^T$ is the *weight vector* formed of parameters of the regression model that we seek to find.\n",
        "\n",
        "We will first investigate how it is implemented in `sklearn`. Then we will look at measuring the performance of regression methods and investigate how the dimension of the feature vector influences the performance of the linear regression."
      ]
    },
    {
      "cell_type": "markdown",
      "id": "49d43cdd-c2d5-4832-ba6e-618ddd8f5657",
      "metadata": {
        "id": "49d43cdd-c2d5-4832-ba6e-618ddd8f5657"
      },
      "source": [
        "<img src=\"https://drive.google.com/uc?id=1EGJc8W7n3l40R5L2diJuTs7Qcqc3AOmS\" width = \"500\" style=\"float: right;\">\n",
        "\n",
        "The biomedical application that we will investigate in this notebook is prediction of gestational age (GA) from volumes of brain structures. The brain volumes were measured based on an analysis of MRI scans. The brain volumes come from the **Developing Human Connectome Project** ([dHCP](www.developingconnectome.org)). We will use three different feature vectors:\n",
        "\n",
        "* **Whole brain volume - a single feature**\n",
        "* **Volumes of main brain structures - six features:** cortical gray matter, cortical white matter, myelinated subcortical white matter, subcortical gray matter, cerebellum and brainstem.\n",
        "* **Volumes of all dHCP brain structures - 86 features**\n",
        "\n",
        "The segmentations were performed using the [dHCP processing pipeline](www.doi.org/10.1016/j.neuroimage.2018.01.054). The software is available for download [here](www.github.com/MIRTK/DrawEM)."
      ]
    },
    {
      "cell_type": "markdown",
      "id": "7ebf1357-0b8e-42a8-9545-20d3e2e153e0",
      "metadata": {
        "id": "7ebf1357-0b8e-42a8-9545-20d3e2e153e0"
      },
      "source": [
        "## Multivariate Linear Regression in Scikit-learn\n",
        "\n"
      ]
    },
    {
      "cell_type": "markdown",
      "source": [
        "### Load the dataset\n",
        "\n",
        "We will first explore the multivariate linear regression using the dataset with 6 brain volumes for prediction of GA at scan.\n",
        "\n",
        "Remember to load the provided `.csv` files into your Colab session.\n",
        "\n",
        "The code bellow loads the dataset, extract the feature matrix and the target vector, and scales the features using `StandardScaler`. This is implemented in the function `CreateFeaturesTargets`, which accepts a 'csv' file as an input and returns extracted feature matrix `X` that contains the volumes and target vector `y`with GA."
      ],
      "metadata": {
        "id": "d7lRHVMx75ju"
      },
      "id": "d7lRHVMx75ju"
    },
    {
      "cell_type": "code",
      "execution_count": null,
      "id": "243bcc10-1ef8-4a29-b1af-3cca267f0a49",
      "metadata": {
        "id": "243bcc10-1ef8-4a29-b1af-3cca267f0a49"
      },
      "outputs": [],
      "source": [
        "import pandas as pd\n",
        "import numpy as np\n",
        "import seaborn as sns\n",
        "import requests\n",
        "from sklearn.preprocessing import StandardScaler\n",
        "import matplotlib.pyplot as plt\n",
        "%matplotlib inline\n",
        "\n",
        "from sklearn.linear_model import LinearRegression\n",
        "from sklearn.metrics import r2_score, mean_squared_error\n",
        "from sklearn.model_selection import cross_val_score"
      ]
    },
    {
      "cell_type": "markdown",
      "id": "c667a014-c578-41da-8c78-cd8a1d616056",
      "metadata": {
        "id": "c667a014-c578-41da-8c78-cd8a1d616056"
      },
      "source": [
        "We will use the 6 features dataset for now."
      ]
    },
    {
      "cell_type": "code",
      "execution_count": null,
      "id": "39c67847-35a4-486d-be82-dbdde13b3760",
      "metadata": {
        "id": "39c67847-35a4-486d-be82-dbdde13b3760"
      },
      "outputs": [],
      "source": [
        "df = pd.read_csv('GA-brain-volumes-6-features.csv', names=['GA', 'Structure 0', 'Struture 1', 'Structure 2', 'Structure 3', 'Structure 4', 'Structure 5'])\n",
        "\n",
        "# Features are in columns one to end\n",
        "X = df.values[1:, 1:]\n",
        "\n",
        "# Scale features\n",
        "X = StandardScaler().fit_transform(X)\n",
        "\n",
        "# Labels are in the column zero\n",
        "y = df.values[1:, 0]\n",
        "\n",
        "print('Number of samples is', X.shape[0])\n",
        "print('Number of features is', X.shape[1])"
      ]
    },
    {
      "cell_type": "markdown",
      "id": "ab3121e9-fe28-43f3-b17b-e96e2ab34d58",
      "metadata": {
        "id": "ab3121e9-fe28-43f3-b17b-e96e2ab34d58"
      },
      "source": [
        "### Data Dictionary\n",
        "\n",
        "**GA**: Gestational Age (in weeks).\n",
        "\n",
        "**Structure [0-5]**: Volume of brain structure [0-5]."
      ]
    },
    {
      "cell_type": "markdown",
      "id": "7e5315ac-6474-4c4f-9dca-f2f56a6228ea",
      "metadata": {
        "id": "7e5315ac-6474-4c4f-9dca-f2f56a6228ea"
      },
      "source": [
        "### Visualise the dataset\n",
        "\n",
        "First, we will do some EDA. Run the code below to visualise the correlation of individual features of this dataset with the GA."
      ]
    },
    {
      "cell_type": "code",
      "execution_count": null,
      "id": "3fc0e526-c402-454b-9586-b543bca0e553",
      "metadata": {
        "id": "3fc0e526-c402-454b-9586-b543bca0e553"
      },
      "outputs": [],
      "source": [
        "plt.figure(figsize=(10,6))\n",
        "\n",
        "for i in range(6):\n",
        "        plt.subplot(2,3,i+1)\n",
        "        plt.scatter(X[:,i], y)\n",
        "        plt.xlabel('Scaled volumes')\n",
        "        plt.ylabel('GA at scan')\n",
        "        plt.title('Structure '+ str(i))\n",
        "\n",
        "plt.tight_layout()"
      ]
    },
    {
      "cell_type": "markdown",
      "id": "7b4dfd56-e8b0-4248-8297-4fb719ebc948",
      "metadata": {
        "id": "7b4dfd56-e8b0-4248-8297-4fb719ebc948"
      },
      "source": [
        "It is clear visually that all 6 volumes in our dataset are correlated with GA. Next, we will visualize the correlation matrix for all the features and the gestational age."
      ]
    },
    {
      "cell_type": "code",
      "execution_count": null,
      "id": "da115559-de02-4448-b8ba-24872379c6ec",
      "metadata": {
        "id": "da115559-de02-4448-b8ba-24872379c6ec",
        "outputId": "5db4c4e6-ef10-435d-e8a3-90db62baac88",
        "colab": {
          "base_uri": "https://localhost:8080/"
        }
      },
      "outputs": [
        {
          "data": {
            "image/png": "[encoded data removed]",
            "text/plain": [
              "<Figure size 640x480 with 2 Axes>"
            ]
          },
          "metadata": {},
          "output_type": "display_data"
        }
      ],
      "source": [
        "sns.heatmap(df.corr(numeric_only=True), annot=True, cmap='mako')\n",
        "plt.show()"
      ]
    },
    {
      "cell_type": "markdown",
      "id": "c09bc235-0d87-4a0a-9ba4-d30c5abad4e4",
      "metadata": {
        "id": "c09bc235-0d87-4a0a-9ba4-d30c5abad4e4"
      },
      "source": [
        "### Fit model using normal equation\n",
        "\n",
        "The code below fits the [`LinearRegression`](https://scikit-learn.org/stable/modules/generated/sklearn.linear_model.LinearRegression.html#sklearn.linear_model.LinearRegression) model to the data using the **normal equation**. The performance is evaluated using the **Root Mean Squared Error** (RMSE). This is done first on the whole dataset using function `mean_squared_error` and then using cross-validation implemented by a sklearn function [`cross_val_score`](https://scikit-learn.org/stable/modules/generated/sklearn.model_selection.cross_val_score.html#sklearn.model_selection.cross_val_score). Run the code."
      ]
    },
    {
      "cell_type": "code",
      "execution_count": null,
      "id": "962d8d98-66cf-4c5d-942e-f2fbd9357e52",
      "metadata": {
        "id": "962d8d98-66cf-4c5d-942e-f2fbd9357e52",
        "outputId": "7b26495f-87e3-4732-b5ec-32f8c97d7996",
        "colab": {
          "base_uri": "https://localhost:8080/"
        }
      },
      "outputs": [
        {
          "metadata": {
            "tags": null
          },
          "name": "stdout",
          "output_type": "stream",
          "text": [
            "R2: 0.92\n",
            "RMSE: 1.12 weeks\n",
            "RMSE_CV: 1.28 weeks\n"
          ]
        }
      ],
      "source": [
        "# Choose the linear regression model\n",
        "lr_model = LinearRegression()\n",
        "\n",
        "# Calculate RMSE on the whole set\n",
        "lr_model.fit(X, y)\n",
        "\n",
        "y_pred = lr_model.predict(X)\n",
        "\n",
        "# Calculate and print the R2 and RMSE scores\n",
        "r2 = r2_score(y, y_pred)\n",
        "# We could alternately calculate the R2 score using the model's score method:\n",
        "# lr_model.score(X, y)\n",
        "print('R2: {:.2f}'.format(r2))\n",
        "rmse = np.sqrt(mean_squared_error(y, y_pred))\n",
        "print('RMSE: {:.2f} weeks'.format(rmse))\n",
        "\n",
        "# Calculate scores using cross-validation\n",
        "r2_scores = cross_val_score(LinearRegression(), X, y, scoring='neg_mean_squared_error', cv=5)\n",
        "rmse_cv = np.sqrt(-np.mean(r2_scores))\n",
        "print('RMSE_CV: {:.2f} weeks'.format(rmse_cv))"
      ]
    },
    {
      "cell_type": "markdown",
      "id": "1a20843a-47db-46c8-8ec6-2d54fc35ec23",
      "metadata": {
        "id": "1a20843a-47db-46c8-8ec6-2d54fc35ec23"
      },
      "source": [
        "**Question:** Notice the RMSE. In which units is it? We calculate RMSE on the whole dataset and using cross-validation. Which one is larger? We will later compare these errors to other regression methods.\n",
        "\n",
        "**Answer:**"
      ]
    },
    {
      "cell_type": "markdown",
      "id": "11b036db-6671-4d17-8e5a-953db816be0c",
      "metadata": {
        "id": "11b036db-6671-4d17-8e5a-953db816be0c"
      },
      "source": [
        "### Fit model using SGD\n",
        "We will now fit the model multivariate linear regression model using **stochastic gradient descent** implemented in `SGDRegressor`.\n",
        "\n",
        "Run the code and compare the error to the fit using the normal equation that we have performed before."
      ]
    },
    {
      "cell_type": "code",
      "execution_count": null,
      "id": "728656f0-1d8a-4ea1-9e85-64c776bd4b29",
      "metadata": {
        "id": "728656f0-1d8a-4ea1-9e85-64c776bd4b29",
        "outputId": "7a6d4540-5d70-4519-fbb9-60f16c1de705",
        "colab": {
          "base_uri": "https://localhost:8080/"
        }
      },
      "outputs": [
        {
          "metadata": {
            "tags": null
          },
          "name": "stdout",
          "output_type": "stream",
          "text": [
            "RMSE: 1.17 weeks\n",
            "RMSE_CV: 1.31 weeks\n"
          ]
        }
      ],
      "source": [
        "def RMSE(model,X,y):\n",
        "    model.fit(X,y)\n",
        "    y_pred = model.predict(X)\n",
        "    rmse = np.sqrt(mean_squared_error(y, y_pred))\n",
        "    print('RMSE: {} weeks'.format(round(rmse,2)))\n",
        "    return rmse\n",
        "\n",
        "def RMSE_CV(model,X,y):\n",
        "    scores = cross_val_score(model,X,y, scoring='neg_mean_squared_error',cv=5)\n",
        "    rmse_cv = np.sqrt(-np.mean(scores))\n",
        "    print('RMSE_CV: {} weeks'.format(round(rmse_cv,2)))\n",
        "    return rmse_cv\n",
        "\n",
        "from sklearn.linear_model import SGDRegressor\n",
        "\n",
        "model = SGDRegressor(loss=\"squared_error\", penalty=None)\n",
        "rmse = RMSE(model,X,y)\n",
        "rmse_cv = RMSE_CV(model,X,y)"
      ]
    },
    {
      "cell_type": "markdown",
      "id": "a945e886-1b1b-4842-9f71-a46484fa6129",
      "metadata": {
        "id": "a945e886-1b1b-4842-9f71-a46484fa6129"
      },
      "source": [
        "## Exercise 1: Compare performance of linear regression models with different numbers of features\n",
        "\n",
        "In this exercise we will compare performance of multivariate linear regression models with different numbers of features to predidict the gestational age of a baby.\n",
        "\n",
        "First we will load the three datasets (1-feature, 6-feature and 86-feature) and print out the number of features. Run the code."
      ]
    },
    {
      "cell_type": "code",
      "execution_count": null,
      "id": "6ee805c1-e8c4-4e09-b52d-6b5632d44178",
      "metadata": {
        "id": "6ee805c1-e8c4-4e09-b52d-6b5632d44178"
      },
      "outputs": [],
      "source": [
        "def CreateFeaturesTargets(filename):\n",
        "\n",
        "    df = pd.read_csv(filename,header=None)\n",
        "\n",
        "    # convert from 'DataFrame' to numpy array\n",
        "    data = df.values\n",
        "\n",
        "    # Features are in columns one to end\n",
        "    X = data[:,1:]\n",
        "\n",
        "    # Scale features\n",
        "    X = StandardScaler().fit_transform(X)\n",
        "\n",
        "    # Labels are in the column zero\n",
        "    y = data[:,0]\n",
        "\n",
        "    # return Features and Labels\n",
        "    return X, y"
      ]
    },
    {
      "cell_type": "code",
      "execution_count": null,
      "id": "0f62049e-25bc-4b13-8bad-f3bb29d9f217",
      "metadata": {
        "id": "0f62049e-25bc-4b13-8bad-f3bb29d9f217",
        "outputId": "c1a210ce-1b99-4789-b54d-abd92160aff2",
        "colab": {
          "base_uri": "https://localhost:8080/"
        }
      },
      "outputs": [
        {
          "output_type": "stream",
          "name": "stdout",
          "text": [
            "Number of features in X1 is 1\n",
            "Number of features in X6 is 6\n",
            "Number of features in X86 is 86\n"
          ]
        }
      ],
      "source": [
        "# Load the datasets. Target values y are the same for all datasets\n",
        "X1,y = CreateFeaturesTargets('GA-brain-volumes-1-feature.csv')\n",
        "print('Number of features in X1 is', X1.shape[1])\n",
        "\n",
        "X6,y = CreateFeaturesTargets('GA-brain-volumes-6-features.csv')\n",
        "print('Number of features in X6 is', X6.shape[1])\n",
        "\n",
        "X86,y = CreateFeaturesTargets('GA-brain-volumes-86-features.csv')\n",
        "print('Number of features in X86 is', X86.shape[1])"
      ]
    },
    {
      "cell_type": "markdown",
      "id": "bb62485c-bcaf-467b-b60f-0c954a1a4a9c",
      "metadata": {
        "id": "bb62485c-bcaf-467b-b60f-0c954a1a4a9c"
      },
      "source": [
        "In the next step we will create a linear regression model and calculate RMSE on the whole set. Use the function `RMSE` that we have created previously. Fill in the code below and run it."
      ]
    },
    {
      "cell_type": "code",
      "execution_count": null,
      "id": "1bacae8f-ca1c-4094-94d4-fbc32b97eb6d",
      "metadata": {
        "id": "1bacae8f-ca1c-4094-94d4-fbc32b97eb6d",
        "outputId": "7f8000eb-1915-47ef-dc41-5d32e44dfb83"
      },
      "outputs": [
        {
          "name": "stdout",
          "output_type": "stream",
          "text": [
            "Single feature:\n",
            "Six features:\n",
            "86 features:\n"
          ]
        }
      ],
      "source": [
        "# Select the model\n",
        "model = None\n",
        "\n",
        "# Single feature\n",
        "print('Single feature:')\n",
        "#rmse1 = None\n",
        "\n",
        "# 6 features\n",
        "print('Six features:')\n",
        "# rmse6 = None\n",
        "\n",
        "# 86 features\n",
        "print('86 features:')\n",
        "# rmse86 = None"
      ]
    },
    {
      "cell_type": "markdown",
      "id": "5050b766-f6f6-400c-a952-a7f137e61f3f",
      "metadata": {
        "id": "5050b766-f6f6-400c-a952-a7f137e61f3f"
      },
      "source": [
        "**Question:** What happens with RMSE on the whole set as we increase the number of features? Can you interpret this behaviour?\n",
        "\n",
        "**Answer:**"
      ]
    },
    {
      "cell_type": "markdown",
      "id": "e37688c4-0208-4699-91e8-6ed3bc050cef",
      "metadata": {
        "id": "e37688c4-0208-4699-91e8-6ed3bc050cef"
      },
      "source": [
        "Now let's calculate the cross-validated RMSE for the three different feature matrices. You can use function `RMSE_CV` that we created before to calculate and print out the scores."
      ]
    },
    {
      "cell_type": "code",
      "execution_count": null,
      "id": "9c04437c-4295-4871-86f9-f07c3764fd7e",
      "metadata": {
        "id": "9c04437c-4295-4871-86f9-f07c3764fd7e",
        "outputId": "d46462e8-ccc3-4227-ee13-ef9e86be0295"
      },
      "outputs": [
        {
          "name": "stdout",
          "output_type": "stream",
          "text": [
            "Single feature:\n",
            "Six features:\n",
            "86 features:\n"
          ]
        }
      ],
      "source": [
        "# Single feature\n",
        "print('Single feature:')\n",
        "# rmse_cv1 = None\n",
        "\n",
        "# 6 features\n",
        "print('Six features:')\n",
        "# rmse_cv6 = None\n",
        "\n",
        "# 86 features\n",
        "print('86 features:')\n",
        "# rmse_cv86 = None"
      ]
    },
    {
      "cell_type": "markdown",
      "id": "c5e56341-9ba4-4db2-99bf-f28e7a70973d",
      "metadata": {
        "id": "c5e56341-9ba4-4db2-99bf-f28e7a70973d"
      },
      "source": [
        "**Question:** Which model performs the best? Which model is overfitted?\n",
        "\n",
        "__Answer:__"
      ]
    },
    {
      "cell_type": "markdown",
      "source": [
        "## Exercise 2: Normal equation in Numpy (optional)\n",
        "\n",
        "Implement the multivariate linear regression using the **normal equation** in `numpy`. Do __not__ use any `sklearn` functions.\n",
        "\n",
        "Perform the following steps:\n",
        "* Split the dataset into training and test set, by including the first 120 samples in the training set and the rest in the test set\n",
        "* Implement fitting of the model to the training data in `numpy` using $\\mathbf{w} = (\\mathbf{X}^T\\mathbf{X})^{-1}\\mathbf{X}^T\\mathbf{y}$\n",
        "* Predict the target values on the test according to $\\mathbf{\\hat{y}}=\\mathbf{Xw}$\n",
        "* Calculate the RMSE on the test set using $RMSE = \\sqrt{\\frac{1}{N}\\sum_{i=1}^N(y_i-\\hat{y}_i)^2}$\n",
        "\n",
        "You will need these `numpy` functions:\n",
        "* `np.hstack` to concatenate two numpy arrays\n",
        "* `np.matmul` performs matrix multiplication\n",
        "* `matrix.T` transposes the `matrix`\n",
        "* `np.linalg.inv` inverts a matrix\n",
        "\n",
        "Some of the code has been provided for you, fill in the missing commands."
      ],
      "metadata": {
        "id": "6Bp4CBlO-kxr"
      },
      "id": "6Bp4CBlO-kxr"
    },
    {
      "cell_type": "code",
      "source": [
        "# Create a column of ones\n",
        "x0 = np.ones([X.shape[0],1])\n",
        "\n",
        "# Concatenate with the feature matrix to add feature zero\n",
        "X1 = None\n",
        "\n",
        "# Print the first three lines of the new feature matrix\n",
        "print(np.around(X1[:3,:],2))\n",
        "\n",
        "# Print the new number of features\n",
        "print('\\n The new number of features is ', X1.shape[1])"
      ],
      "metadata": {
        "id": "QwnMVIOq-twL"
      },
      "id": "QwnMVIOq-twL",
      "execution_count": null,
      "outputs": []
    },
    {
      "cell_type": "code",
      "source": [
        "# Split into training and test set\n",
        "X1_train = X1[:120,:]\n",
        "y_train = None\n",
        "X1_test = None\n",
        "y_test = y[120:]\n",
        "print('Number of samples in train {} and test {}'.format(X1_train.shape[0],X1_test.shape[0]))"
      ],
      "metadata": {
        "id": "mSPMWiKL-uk_"
      },
      "id": "mSPMWiKL-uk_",
      "execution_count": null,
      "outputs": []
    },
    {
      "cell_type": "code",
      "source": [
        "# Implement equation w=(XtX)^-1 * Xty\n",
        "XtX = np.matmul(X1_train.T,None)\n",
        "Xty = None\n",
        "XtXinv = np.linalg.inv(None)\n",
        "w = None\n",
        "print('Coeffs:',np.around(w,2))"
      ],
      "metadata": {
        "id": "pu4S7ru0-wKb"
      },
      "id": "pu4S7ru0-wKb",
      "execution_count": null,
      "outputs": []
    },
    {
      "cell_type": "code",
      "source": [
        "# predict on test set using y=X*w\n",
        "y_pred_test = None\n",
        "\n",
        "# plot predicted against expected target values\n",
        "plt.scatter(y_test,y_pred_test, label = 'target values')\n",
        "plt.plot([28,44],[28,44],'r', label = '$y=\\hat{y}$')\n",
        "plt.title('Predictions on test set')\n",
        "plt.xlabel('Target values')\n",
        "plt.ylabel('Predicted target values')\n",
        "_=plt.legend(fontsize = 12)"
      ],
      "metadata": {
        "id": "RcISUSMj-zb9"
      },
      "id": "RcISUSMj-zb9",
      "execution_count": null,
      "outputs": []
    },
    {
      "cell_type": "code",
      "source": [
        "# calculate RMSE on test set\n",
        "error = None\n",
        "rmse = np.sqrt(np.mean(None))\n",
        "print('RMSE test: {} weeks'.format(round(rmse,2)))"
      ],
      "metadata": {
        "id": "-jvVsV0o-0PG"
      },
      "id": "-jvVsV0o-0PG",
      "execution_count": null,
      "outputs": []
    }
  ],
  "metadata": {
    "kernelspec": {
      "display_name": "Python 3 (ipykernel)",
      "language": "python",
      "name": "python3"
    },
    "language_info": {
      "codemirror_mode": {
        "name": "ipython",
        "version": 3
      },
      "file_extension": ".py",
      "mimetype": "text/x-python",
      "name": "python",
      "nbconvert_exporter": "python",
      "pygments_lexer": "ipython3",
      "version": "3.11.4"
    },
    "colab": {
      "provenance": []
    }
  },
  "nbformat": 4,
  "nbformat_minor": 5
}